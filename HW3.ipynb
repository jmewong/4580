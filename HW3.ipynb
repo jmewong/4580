{
 "cells": [
  {
   "cell_type": "markdown",
   "metadata": {},
   "source": [
    "# 4."
   ]
  },
  {
   "cell_type": "markdown",
   "metadata": {},
   "source": [
    "## a."
   ]
  },
  {
   "cell_type": "markdown",
   "metadata": {},
   "source": [
    "\\begin{equation*}\n",
    "F(x) = 1\n",
    "\\end{equation*}\n",
    "\n",
    "\\begin{equation*}\n",
    "F(x) = \\int_{0}^{1}ce^x dx + \\int_{1}^{\\infty}ce^{2-x} dx = ce^x \\Big |_{0}^{1} + \\Big (-ce^{2-x} \\Big |_{1}^{\\infty} \\Big ) = c(e -1) + ce = c(2e -1)\n",
    "\\end{equation*}\n",
    "\n",
    "\\begin{equation*}\n",
    "c(2e - 1) = 1\n",
    "\\end{equation*}\n",
    "\n",
    "\\begin{equation*}\n",
    "c = \\frac{1}{2e - 1}\n",
    "\\end{equation*}"
   ]
  },
  {
   "cell_type": "markdown",
   "metadata": {},
   "source": [
    "## b."
   ]
  },
  {
   "cell_type": "markdown",
   "metadata": {},
   "source": [
    "The cdf of X can be computed as follows:\n",
    "\n",
    "For $0\\leq x \\leq 1$:\n",
    "\\begin{align}\n",
    "F(x) & = \\int_{0}^{x}ce^t dt = ce^t \\Big |_{0}^{x} = c(e^x - 1) = \\frac{e^x-1}{2e-1}\n",
    "\\end{align}\n",
    "\n",
    "For $x > 1$:\n",
    "\\begin{equation*}\n",
    "F(x) = \\int_{0}^{1}ce^t dt + \\int_{1}^{x}ce^{2-t} dt = ce^t \\Big |_{0}^{1} + \\Big (-ce^{2-t} \\Big |_{1}^{x} \\Big ) = c(e - 1) + c \\Big (e - e^{2-x} \\Big ) = \\frac{-e^{2-x}+e^2+e-1}{2e-1}\n",
    "\\end{equation*}\n",
    "\n",
    "\n",
    "\\begin{equation*}\n",
    "F(x)=\n",
    "\\begin{cases}\n",
    "    0                            &  x < 0\\\\\n",
    "    \\frac{e^x-1}{2e-1}          & 0\\leq x \\leq 1\\\\\n",
    "    \\frac{-e^{2x}+2e-1}{2e-1}   & x > 1\\\\\n",
    "\\end{cases}\n",
    "\\end{equation*}\n",
    "\n",
    "Compute the inverse of the cdf as follows:\n",
    "\\begin{equation*}\n",
    "u = \\frac{e^x-1}{2e-1} \\Longrightarrow x = log(1 - u + 2eu)\n",
    "\\end{equation*}\n",
    "\n",
    "\\begin{equation*}\n",
    "u = \\frac{-e^{2-x}+e^2+e-1}{2e-1} \\Longrightarrow x = log\\Big (\\frac{e^2}{-2eu+u+e^2+e-1} \\Big )\n",
    "\\end{equation*}\n",
    "\n",
    "Breakpoint x = 1, u = $\\frac{e-1}{2e-1}$\n",
    "\\begin{equation*}\n",
    "F^{-1}(u)=\n",
    "\\begin{cases}\n",
    "    log(1 - u + 2eu)          & 0\\leq x \\leq \\frac{e-1}{2e-1}\\\\\n",
    "    log\\Big (\\frac{e^2}{-2eu+u+e^2+e-1} \\Big )   & \\frac{e-1}{2e-1} < x \\leq 1\\\\\n",
    "\\end{cases}\n",
    "\\end{equation*}\n",
    "\n",
    "The inversion algorithm is:\n",
    "1. Generate U ∼ U[0, 1].\n",
    "2. If U ≤ $\\frac{e-1}{2e-1}$, return X = $log(1 - u + 2eu)$. If U ≥ $\\frac{e-1}{2e-1}$, return X = $log\\Big (\\frac{e^2}{-2eu+u+e^2+e-1} \\Big )$."
   ]
  },
  {
   "cell_type": "markdown",
   "metadata": {},
   "source": [
    "## c."
   ]
  },
  {
   "cell_type": "code",
   "execution_count": 31,
   "metadata": {},
   "outputs": [
    {
     "data": {
      "image/png": "[encoded data removed]",
      "text/plain": [
       "<matplotlib.figure.Figure at 0x61c3630>"
      ]
     },
     "metadata": {},
     "output_type": "display_data"
    }
   ],
   "source": [
    "import numpy as np\n",
    "import scipy.stats\n",
    "import matplotlib.pyplot as plt\n",
    "%matplotlib inline\n",
    "\n",
    "e=math.exp(1);\n",
    "\n",
    "n = 1500\n",
    "U = np.random.rand(n)\n",
    "X = np.empty(n)\n",
    "for i in range(n):\n",
    "    # Inversion method\n",
    "    if U[i] <= (e-1)/(2*e-1):\n",
    "        X[i] = math.log(1-U[i]+2*e*U[i])\n",
    "    else:\n",
    "        X[i] = math.log((e**2)/(-2*e*U[i]+U[i]+e**2+e-1))\n",
    "\n",
    "plt.hist(X); # Plot histogram"
   ]
  },
  {
   "cell_type": "code",
   "execution_count": 32,
   "metadata": {},
   "outputs": [
    {
     "data": {
      "image/png": "[encoded data removed]",
      "text/plain": [
       "<matplotlib.figure.Figure at 0xa6f94e0>"
      ]
     },
     "metadata": {},
     "output_type": "display_data"
    }
   ],
   "source": [
    "plt.hist(X, normed=1); # plot histogram with \"relative\" frequencies\n",
    "\n",
    "x = np.linspace(0,1,1000)\n",
    "fx = np.empty(1000)\n",
    "c = 1/(2*e-1)\n",
    "for i in range(1000):\n",
    "    if x[i] <= 1:\n",
    "        fx[i] = c*e**x[i]\n",
    "    else:\n",
    "        fx[i] = c*e**(2-x[i])\n",
    "plt.plot(x,fx); # plot pdf of X"
   ]
  },
  {
   "cell_type": "code",
   "execution_count": null,
   "metadata": {
    "collapsed": true
   },
   "outputs": [],
   "source": []
  }
 ],
 "metadata": {
  "kernelspec": {
   "display_name": "Python 2",
   "language": "python",
   "name": "python2"
  },
  "language_info": {
   "codemirror_mode": {
    "name": "ipython",
    "version": 2
   },
   "file_extension": ".py",
   "mimetype": "text/x-python",
   "name": "python",
   "nbconvert_exporter": "python",
   "pygments_lexer": "ipython2",
   "version": "2.7.13"
  }
 },
 "nbformat": 4,
 "nbformat_minor": 2
}
