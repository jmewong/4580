{
 "cells": [
  {
   "cell_type": "markdown",
   "metadata": {},
   "source": [
    "Homework 2\n",
    "Jamie Wong, jmw488 & Emma Wang, exw2\n",
    "\n",
    "# 1a"
   ]
  },
  {
   "cell_type": "code",
   "execution_count": 26,
   "metadata": {},
   "outputs": [
    {
     "name": "stdout",
     "output_type": "stream",
     "text": [
      "7823\n",
      "0.7823\n"
     ]
    }
   ],
   "source": [
    "import numpy as np\n",
    "import scipy.stats\n",
    "import matplotlib.pyplot as plt\n",
    "%matplotlib inline\n",
    "\n",
    "n=10000\n",
    "\n",
    "X = np.random.uniform(low=-1, high=1, size=n)\n",
    "Y = np.random.uniform(low=-1, high=1, size=n)\n",
    "Z = []\n",
    "count = 0 \n",
    "for i in range(n):\n",
    "    if X[i]**2+ Y[i]**2 <= 1:\n",
    "        Z.append(1)\n",
    "        count += 1\n",
    "    else:\n",
    "        Z.append(0)\n",
    "prob = float(count)/n\n",
    "print(count)\n",
    "print(prob)"
   ]
  },
  {
   "cell_type": "markdown",
   "metadata": {},
   "source": [
    "####  expression for estimating pi = prob = areacircle/areasquare\n",
    "#### areasquare = $2^2 = 4$\n",
    "#### expression for estimating pi = $\\frac{\\pi}{4}$\n"
   ]
  },
  {
   "cell_type": "markdown",
   "metadata": {},
   "source": [
    "#### what type of distribution is $N_{circle}$ ? \n",
    "#### binomial distribution"
   ]
  },
  {
   "cell_type": "markdown",
   "metadata": {},
   "source": [
    "# 1b"
   ]
  },
  {
   "cell_type": "markdown",
   "metadata": {},
   "source": [
    "### $\\bar X_N = \\frac{1}{N}\\sum\\limits_{n=1}^{N}X_N$ = $\\frac{1}{10000} * (7823) = 0.7823$"
   ]
  },
  {
   "cell_type": "code",
   "execution_count": 81,
   "metadata": {},
   "outputs": [
    {
     "name": "stdout",
     "output_type": "stream",
     "text": [
      "0.168547888329\n"
     ]
    },
    {
     "data": {
      "text/plain": [
       "'\"\\nX_N = 0.7823\\ndiff = []\\nvar = 0\\nsumsq = 0 \\nfor i in Z:\\n    diff.append((i-X_N)**2)\\nfor k in diff:\\n    sumsq = sumsq + k\\nvar = (1/(10000.-1))*(sumsq)\\nprint(var)\\n'"
      ]
     },
     "execution_count": 81,
     "metadata": {},
     "output_type": "execute_result"
    }
   ],
   "source": [
    "pi = math.pi\n",
    "var = (pi/4)*(1-(pi/4))\n",
    "print(var)\n",
    "\n",
    "\"\"\"\"\n",
    "X_N = 0.7823\n",
    "diff = []\n",
    "var = 0\n",
    "sumsq = 0 \n",
    "for i in Z:\n",
    "    diff.append((i-X_N)**2)\n",
    "for k in diff:\n",
    "    sumsq = sumsq + k\n",
    "var = (1/(10000.-1))*(sumsq)\n",
    "print(var)\n",
    "\"\"\""
   ]
  },
  {
   "cell_type": "markdown",
   "metadata": {},
   "source": [
    "$s_N^2 = 0.17032374374$"
   ]
  },
  {
   "cell_type": "markdown",
   "metadata": {},
   "source": [
    "$100(1-\\alpha)% = 90%$ $\\implies \\alpha = 0.1 \\\\ \n",
    "z_{\\frac{\\alpha}{2}} = 1.645$\n"
   ]
  },
  {
   "cell_type": "markdown",
   "metadata": {},
   "source": [
    "half width = 0.005"
   ]
  },
  {
   "cell_type": "code",
   "execution_count": 82,
   "metadata": {},
   "outputs": [
    {
     "name": "stdout",
     "output_type": "stream",
     "text": [
      "18244.0\n"
     ]
    }
   ],
   "source": [
    "z = 1.645\n",
    "N = (var)*(z**2)/(0.005**2)\n",
    "print(math.ceil(N))"
   ]
  },
  {
   "cell_type": "markdown",
   "metadata": {},
   "source": [
    "# N = 18244"
   ]
  },
  {
   "cell_type": "markdown",
   "metadata": {},
   "source": [
    "# 1c"
   ]
  },
  {
   "cell_type": "code",
   "execution_count": 109,
   "metadata": {},
   "outputs": [
    {
     "name": "stdout",
     "output_type": "stream",
     "text": [
      "14326\n",
      "0.785244463933\n"
     ]
    }
   ],
   "source": [
    "#run simulation with n = 3141\n",
    "\n",
    "import numpy as np\n",
    "import scipy.stats\n",
    "import matplotlib.pyplot as plt\n",
    "%matplotlib inline\n",
    "\n",
    "n=18244\n",
    "\n",
    "X = np.random.uniform(low=-1, high=1, size=n)\n",
    "Y = np.random.uniform(low=-1, high=1, size=n)\n",
    "Z = []\n",
    "count = 0 \n",
    "for i in range(n):\n",
    "    if X[i]**2+ Y[i]**2 <= 1:\n",
    "        Z.append(1)\n",
    "        count += 1\n",
    "    else:\n",
    "        Z.append(0)\n",
    "prob = float(count)/n\n",
    "print(count)\n",
    "print(prob)"
   ]
  },
  {
   "cell_type": "code",
   "execution_count": 110,
   "metadata": {},
   "outputs": [
    {
     "name": "stdout",
     "output_type": "stream",
     "text": [
      "0.00675574747245\n"
     ]
    }
   ],
   "source": [
    "#compute variance of N = 3141\n",
    "X_N = 0.7823\n",
    "diff = []\n",
    "var = 0\n",
    "sumsq = 0 \n",
    "for i in Z:\n",
    "    diff.append((i-X_N)**2)\n",
    "for k in diff:\n",
    "    sumsq = sumsq + k\n",
    "var = (1/(10000.-1))*(sumsq)\n",
    "print(1.645*(math.sqrt(var)/math.sqrt(n)))"
   ]
  },
  {
   "cell_type": "code",
   "execution_count": 111,
   "metadata": {},
   "outputs": [
    {
     "name": "stdout",
     "output_type": "stream",
     "text": [
      "3.14097785573\n"
     ]
    }
   ],
   "source": [
    "pi = prob*4\n",
    "print(pi)"
   ]
  },
  {
   "cell_type": "markdown",
   "metadata": {},
   "source": [
    "##### $CI = 3.14097785573\\pm 0.00675574$\n"
   ]
  },
  {
   "cell_type": "markdown",
   "metadata": {},
   "source": [
    "# 2a"
   ]
  },
  {
   "cell_type": "code",
   "execution_count": 8,
   "metadata": {},
   "outputs": [
    {
     "name": "stdout",
     "output_type": "stream",
     "text": [
      "Populating the interactive namespace from numpy and matplotlib\n"
     ]
    }
   ],
   "source": [
    "%pylab inline\n",
    "def buffon(N,length,dist,seed=-1):\n",
    "    # N = number of throws \n",
    "    # length = length of match\n",
    "    # dist = distance between lines\n",
    "    # seed = seed for random number generator\n",
    "    \n",
    "    # Visualize parallel vertical lines\n",
    "    \n",
    "    if seed==-1:\n",
    "        xcent = np.random.uniform(0,dist/2.0,N) # random x-coordinate of center point\n",
    "        theta = np.random.uniform(0,math.pi/2,N) # random angle\n",
    "    else:\n",
    "        np.random.seed(seed)\n",
    "        xcent = np.random.uniform(0,dist/2.0,N) # random x-coordinate of center point\n",
    "        theta = np.random.uniform(0,math.pi/2,N) # random angle\n",
    "\n",
    "    xtip_l  = xcent - (length/2.0)*np.cos(theta) # generate left endpoint\n",
    "    pihatN = 2.*length*N/(dist*(sum(xtip_l < 0)))     \n",
    "    return pihatN"
   ]
  },
  {
   "cell_type": "code",
   "execution_count": 9,
   "metadata": {},
   "outputs": [
    {
     "name": "stdout",
     "output_type": "stream",
     "text": [
      "3.18367346939\n"
     ]
    }
   ],
   "source": [
    "sample_estimate = buffon(156,1,1)\n",
    "print sample_estimate"
   ]
  },
  {
   "cell_type": "code",
   "execution_count": 50,
   "metadata": {
    "collapsed": true
   },
   "outputs": [],
   "source": [
    "import numpy as np"
   ]
  },
  {
   "cell_type": "code",
   "execution_count": 69,
   "metadata": {},
   "outputs": [
    {
     "data": {
      "text/plain": [
       "[<matplotlib.lines.Line2D at 0x11060d790>]"
      ]
     },
     "execution_count": 69,
     "metadata": {},
     "output_type": "execute_result"
    },
    {
     "data": {
      "image/png": "[encoded data removed]",
      "text/plain": [
       "<matplotlib.figure.Figure at 0x10fa92c50>"
      ]
     },
     "metadata": {},
     "output_type": "display_data"
    }
   ],
   "source": [
    "#plot values n between 10 and 10,000, 30 times \n",
    "n = 100\n",
    "nvec = []\n",
    "count = 0\n",
    "pimean = []\n",
    "ci_hi = []\n",
    "ci_low = []\n",
    "while n <= 10000:\n",
    "    pihat = []\n",
    "    for i in range(0,30):\n",
    "        pihat.append(buffon(n,1,1))\n",
    "    sd = np.std(pihat)\n",
    "    pimean.append(np.mean(pihat))\n",
    "    ci_hi.append(np.mean(pihat)+1.96*sd/math.sqrt(30))\n",
    "    ci_low.append(np.mean(pihat)-1.96*sd/math.sqrt(30))\n",
    "    n+=100\n",
    "    nvec.append(n)\n",
    "x = np.arange(100,10000,100)\n",
    "\n",
    "plt.plot(nvec, pimean , 'b-', label='Mean')\n",
    "plt.plot(nvec, ci_hi, 'r-', label='Upper CI')\n",
    "plt.plot(nvec, ci_low, 'g-', label='Lower CI')\n"
   ]
  },
  {
   "cell_type": "markdown",
   "metadata": {
    "collapsed": true
   },
   "source": [
    "# 2b"
   ]
  },
  {
   "cell_type": "markdown",
   "metadata": {
    "collapsed": true
   },
   "source": [
    "over = 0\n",
    "under = 0\n",
    "for i in pimean:\n",
    "    if i > math.pi:\n",
    "        over+=1\n",
    "    else:\n",
    "        under+=1\n",
    "print(over)\n",
    "print(under)"
   ]
  },
  {
   "cell_type": "markdown",
   "metadata": {
    "collapsed": true
   },
   "source": [
    "### It tends to overestimate pi."
   ]
  },
  {
   "cell_type": "markdown",
   "metadata": {},
   "source": [
    "# 3a. "
   ]
  },
  {
   "cell_type": "markdown",
   "metadata": {},
   "source": [
    "# 3b."
   ]
  },
  {
   "cell_type": "markdown",
   "metadata": {},
   "source": [
    "(b) Use your simulation to give a 95% confidence interval for the probability, q, that 475 or more of the 500 wafers in a batch are acceptable. Choose the number of samples appropriately so that your estimate of q is accurate to one decimal place\n",
    "\n",
    "$sd = \\sqrt{\\frac{p*(1-p)}{N}} = \\sqrt{\\frac{0.95*(0.05)}{1274480}}$"
   ]
  },
  {
   "cell_type": "code",
   "execution_count": null,
   "metadata": {
    "collapsed": true
   },
   "outputs": [],
   "source": []
  }
 ],
 "metadata": {
  "kernelspec": {
   "display_name": "Python 2",
   "language": "python",
   "name": "python2"
  },
  "language_info": {
   "codemirror_mode": {
    "name": "ipython",
    "version": 2
   },
   "file_extension": ".py",
   "mimetype": "text/x-python",
   "name": "python",
   "nbconvert_exporter": "python",
   "pygments_lexer": "ipython2",
   "version": "2.7.13"
  }
 },
 "nbformat": 4,
 "nbformat_minor": 2
}
